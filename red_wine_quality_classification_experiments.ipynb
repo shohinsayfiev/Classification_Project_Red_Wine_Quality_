{
 "cells": [
  {
   "attachments": {},
   "cell_type": "markdown",
   "metadata": {},
   "source": [
    "# Predicting Red Wine Quality: A Data Science Project for Vinho Verde\n",
    "\n",
    "As part of the data science team at the Portuguese \"Vinho Verde\" company, our mission is to construct a model that can predict the quality of red wine based on a set of chemical features. This model has a dual purpose: to enhance the wine production process by providing insights into the chemical properties that impact quality, and to assist in pricing decisions based on wine quality.\n",
    "\n",
    "The dataset utilized in this project, named \"Wine Quality,\" has been sourced from the [UCI Machine Learning Repository](https://archive.ics.uci.edu/ml/datasets/wine+quality).\n",
    "\n",
    "Reference:\n",
    "\n",
    "Cortez, Paulo, Cerdeira, A., Almeida, F., Matos, T., and Reis, J. (2009). Wine Quality. UCI Machine Learning Repository. https://doi.org/10.24432/C56S3T."
   ]
  },
  {
   "attachments": {},
   "cell_type": "markdown",
   "metadata": {},
   "source": [
    "## The data\n",
    "\n",
    "__Importing the standard libraries that will be used further__"
   ]
  },
  {
   "cell_type": "code",
   "execution_count": 1,
   "metadata": {},
   "outputs": [],
   "source": [
    "import pandas as pd\n",
    "import numpy as np\n",
    "import matplotlib.pyplot as plt"
   ]
  },
  {
   "cell_type": "code",
   "execution_count": 2,
   "metadata": {},
   "outputs": [
    {
     "data": {
      "text/html": [
       "<div>\n",
       "<style scoped>\n",
       "    .dataframe tbody tr th:only-of-type {\n",
       "        vertical-align: middle;\n",
       "    }\n",
       "\n",
       "    .dataframe tbody tr th {\n",
       "        vertical-align: top;\n",
       "    }\n",
       "\n",
       "    .dataframe thead th {\n",
       "        text-align: right;\n",
       "    }\n",
       "</style>\n",
       "<table border=\"1\" class=\"dataframe\">\n",
       "  <thead>\n",
       "    <tr style=\"text-align: right;\">\n",
       "      <th></th>\n",
       "      <th>fixed acidity</th>\n",
       "      <th>volatile acidity</th>\n",
       "      <th>citric acid</th>\n",
       "      <th>residual sugar</th>\n",
       "      <th>chlorides</th>\n",
       "      <th>free sulfur dioxide</th>\n",
       "      <th>total sulfur dioxide</th>\n",
       "      <th>density</th>\n",
       "      <th>pH</th>\n",
       "      <th>sulphates</th>\n",
       "      <th>alcohol</th>\n",
       "      <th>quality</th>\n",
       "    </tr>\n",
       "  </thead>\n",
       "  <tbody>\n",
       "    <tr>\n",
       "      <th>0</th>\n",
       "      <td>7.4</td>\n",
       "      <td>0.70</td>\n",
       "      <td>0.00</td>\n",
       "      <td>1.9</td>\n",
       "      <td>0.076</td>\n",
       "      <td>11.0</td>\n",
       "      <td>34.0</td>\n",
       "      <td>0.9978</td>\n",
       "      <td>3.51</td>\n",
       "      <td>0.56</td>\n",
       "      <td>9.4</td>\n",
       "      <td>5</td>\n",
       "    </tr>\n",
       "    <tr>\n",
       "      <th>1</th>\n",
       "      <td>7.8</td>\n",
       "      <td>0.88</td>\n",
       "      <td>0.00</td>\n",
       "      <td>2.6</td>\n",
       "      <td>0.098</td>\n",
       "      <td>25.0</td>\n",
       "      <td>67.0</td>\n",
       "      <td>0.9968</td>\n",
       "      <td>3.20</td>\n",
       "      <td>0.68</td>\n",
       "      <td>9.8</td>\n",
       "      <td>5</td>\n",
       "    </tr>\n",
       "    <tr>\n",
       "      <th>2</th>\n",
       "      <td>7.8</td>\n",
       "      <td>0.76</td>\n",
       "      <td>0.04</td>\n",
       "      <td>2.3</td>\n",
       "      <td>0.092</td>\n",
       "      <td>15.0</td>\n",
       "      <td>54.0</td>\n",
       "      <td>0.9970</td>\n",
       "      <td>3.26</td>\n",
       "      <td>0.65</td>\n",
       "      <td>9.8</td>\n",
       "      <td>5</td>\n",
       "    </tr>\n",
       "    <tr>\n",
       "      <th>3</th>\n",
       "      <td>11.2</td>\n",
       "      <td>0.28</td>\n",
       "      <td>0.56</td>\n",
       "      <td>1.9</td>\n",
       "      <td>0.075</td>\n",
       "      <td>17.0</td>\n",
       "      <td>60.0</td>\n",
       "      <td>0.9980</td>\n",
       "      <td>3.16</td>\n",
       "      <td>0.58</td>\n",
       "      <td>9.8</td>\n",
       "      <td>6</td>\n",
       "    </tr>\n",
       "    <tr>\n",
       "      <th>4</th>\n",
       "      <td>7.4</td>\n",
       "      <td>0.70</td>\n",
       "      <td>0.00</td>\n",
       "      <td>1.9</td>\n",
       "      <td>0.076</td>\n",
       "      <td>11.0</td>\n",
       "      <td>34.0</td>\n",
       "      <td>0.9978</td>\n",
       "      <td>3.51</td>\n",
       "      <td>0.56</td>\n",
       "      <td>9.4</td>\n",
       "      <td>5</td>\n",
       "    </tr>\n",
       "  </tbody>\n",
       "</table>\n",
       "</div>"
      ],
      "text/plain": [
       "   fixed acidity  volatile acidity  citric acid  residual sugar  chlorides   \n",
       "0            7.4              0.70         0.00             1.9      0.076  \\\n",
       "1            7.8              0.88         0.00             2.6      0.098   \n",
       "2            7.8              0.76         0.04             2.3      0.092   \n",
       "3           11.2              0.28         0.56             1.9      0.075   \n",
       "4            7.4              0.70         0.00             1.9      0.076   \n",
       "\n",
       "   free sulfur dioxide  total sulfur dioxide  density    pH  sulphates   \n",
       "0                 11.0                  34.0   0.9978  3.51       0.56  \\\n",
       "1                 25.0                  67.0   0.9968  3.20       0.68   \n",
       "2                 15.0                  54.0   0.9970  3.26       0.65   \n",
       "3                 17.0                  60.0   0.9980  3.16       0.58   \n",
       "4                 11.0                  34.0   0.9978  3.51       0.56   \n",
       "\n",
       "   alcohol  quality  \n",
       "0      9.4        5  \n",
       "1      9.8        5  \n",
       "2      9.8        5  \n",
       "3      9.8        6  \n",
       "4      9.4        5  "
      ]
     },
     "execution_count": 2,
     "metadata": {},
     "output_type": "execute_result"
    }
   ],
   "source": [
    "# Read the data\n",
    "df = pd.read_csv('winequality-red.csv')\n",
    "\n",
    "# Look at the first 5 rows\n",
    "df.head()"
   ]
  },
  {
   "attachments": {},
   "cell_type": "markdown",
   "metadata": {},
   "source": [
    "Knowing the wine production process, we can assume that the quality of the wine is affected by the chemical properties of the wine. Therefore, we will use the chemical properties of the wine as features to predict the quality of the wine. The dataset contains 11 features and 1 target variable (quality)."
   ]
  },
  {
   "attachments": {},
   "cell_type": "markdown",
   "metadata": {},
   "source": [
    "## Initial data analysis\n",
    "\n",
    "Let's look at some information about the dataset"
   ]
  },
  {
   "cell_type": "code",
   "execution_count": 3,
   "metadata": {},
   "outputs": [
    {
     "name": "stdout",
     "output_type": "stream",
     "text": [
      "<class 'pandas.core.frame.DataFrame'>\n",
      "RangeIndex: 1599 entries, 0 to 1598\n",
      "Data columns (total 12 columns):\n",
      " #   Column                Non-Null Count  Dtype  \n",
      "---  ------                --------------  -----  \n",
      " 0   fixed acidity         1599 non-null   float64\n",
      " 1   volatile acidity      1599 non-null   float64\n",
      " 2   citric acid           1599 non-null   float64\n",
      " 3   residual sugar        1599 non-null   float64\n",
      " 4   chlorides             1599 non-null   float64\n",
      " 5   free sulfur dioxide   1599 non-null   float64\n",
      " 6   total sulfur dioxide  1599 non-null   float64\n",
      " 7   density               1599 non-null   float64\n",
      " 8   pH                    1599 non-null   float64\n",
      " 9   sulphates             1599 non-null   float64\n",
      " 10  alcohol               1599 non-null   float64\n",
      " 11  quality               1599 non-null   int64  \n",
      "dtypes: float64(11), int64(1)\n",
      "memory usage: 150.0 KB\n"
     ]
    }
   ],
   "source": [
    "# Get the overall info of the data\n",
    "df.info()"
   ]
  },
  {
   "attachments": {},
   "cell_type": "markdown",
   "metadata": {},
   "source": [
    "We can confirm that the dataset is clean, with no missing, null, or categorical values. It consists of 1599 rows and 12 columns, all of which are numeric. The target variable, 'quality,' is an integer ranging from 3 to 8.\n",
    "\n",
    "Now let's look at some statistical information about the dataset"
   ]
  },
  {
   "cell_type": "code",
   "execution_count": 4,
   "metadata": {},
   "outputs": [
    {
     "data": {
      "text/html": [
       "<div>\n",
       "<style scoped>\n",
       "    .dataframe tbody tr th:only-of-type {\n",
       "        vertical-align: middle;\n",
       "    }\n",
       "\n",
       "    .dataframe tbody tr th {\n",
       "        vertical-align: top;\n",
       "    }\n",
       "\n",
       "    .dataframe thead th {\n",
       "        text-align: right;\n",
       "    }\n",
       "</style>\n",
       "<table border=\"1\" class=\"dataframe\">\n",
       "  <thead>\n",
       "    <tr style=\"text-align: right;\">\n",
       "      <th></th>\n",
       "      <th>fixed acidity</th>\n",
       "      <th>volatile acidity</th>\n",
       "      <th>citric acid</th>\n",
       "      <th>residual sugar</th>\n",
       "      <th>chlorides</th>\n",
       "      <th>free sulfur dioxide</th>\n",
       "      <th>total sulfur dioxide</th>\n",
       "      <th>density</th>\n",
       "      <th>pH</th>\n",
       "      <th>sulphates</th>\n",
       "      <th>alcohol</th>\n",
       "      <th>quality</th>\n",
       "    </tr>\n",
       "  </thead>\n",
       "  <tbody>\n",
       "    <tr>\n",
       "      <th>count</th>\n",
       "      <td>1599.000000</td>\n",
       "      <td>1599.000000</td>\n",
       "      <td>1599.000000</td>\n",
       "      <td>1599.000000</td>\n",
       "      <td>1599.000000</td>\n",
       "      <td>1599.000000</td>\n",
       "      <td>1599.000000</td>\n",
       "      <td>1599.000000</td>\n",
       "      <td>1599.000000</td>\n",
       "      <td>1599.000000</td>\n",
       "      <td>1599.000000</td>\n",
       "      <td>1599.000000</td>\n",
       "    </tr>\n",
       "    <tr>\n",
       "      <th>mean</th>\n",
       "      <td>8.319637</td>\n",
       "      <td>0.527821</td>\n",
       "      <td>0.270976</td>\n",
       "      <td>2.538806</td>\n",
       "      <td>0.087467</td>\n",
       "      <td>15.874922</td>\n",
       "      <td>46.467792</td>\n",
       "      <td>0.996747</td>\n",
       "      <td>3.311113</td>\n",
       "      <td>0.658149</td>\n",
       "      <td>10.422983</td>\n",
       "      <td>5.636023</td>\n",
       "    </tr>\n",
       "    <tr>\n",
       "      <th>std</th>\n",
       "      <td>1.741096</td>\n",
       "      <td>0.179060</td>\n",
       "      <td>0.194801</td>\n",
       "      <td>1.409928</td>\n",
       "      <td>0.047065</td>\n",
       "      <td>10.460157</td>\n",
       "      <td>32.895324</td>\n",
       "      <td>0.001887</td>\n",
       "      <td>0.154386</td>\n",
       "      <td>0.169507</td>\n",
       "      <td>1.065668</td>\n",
       "      <td>0.807569</td>\n",
       "    </tr>\n",
       "    <tr>\n",
       "      <th>min</th>\n",
       "      <td>4.600000</td>\n",
       "      <td>0.120000</td>\n",
       "      <td>0.000000</td>\n",
       "      <td>0.900000</td>\n",
       "      <td>0.012000</td>\n",
       "      <td>1.000000</td>\n",
       "      <td>6.000000</td>\n",
       "      <td>0.990070</td>\n",
       "      <td>2.740000</td>\n",
       "      <td>0.330000</td>\n",
       "      <td>8.400000</td>\n",
       "      <td>3.000000</td>\n",
       "    </tr>\n",
       "    <tr>\n",
       "      <th>25%</th>\n",
       "      <td>7.100000</td>\n",
       "      <td>0.390000</td>\n",
       "      <td>0.090000</td>\n",
       "      <td>1.900000</td>\n",
       "      <td>0.070000</td>\n",
       "      <td>7.000000</td>\n",
       "      <td>22.000000</td>\n",
       "      <td>0.995600</td>\n",
       "      <td>3.210000</td>\n",
       "      <td>0.550000</td>\n",
       "      <td>9.500000</td>\n",
       "      <td>5.000000</td>\n",
       "    </tr>\n",
       "    <tr>\n",
       "      <th>50%</th>\n",
       "      <td>7.900000</td>\n",
       "      <td>0.520000</td>\n",
       "      <td>0.260000</td>\n",
       "      <td>2.200000</td>\n",
       "      <td>0.079000</td>\n",
       "      <td>14.000000</td>\n",
       "      <td>38.000000</td>\n",
       "      <td>0.996750</td>\n",
       "      <td>3.310000</td>\n",
       "      <td>0.620000</td>\n",
       "      <td>10.200000</td>\n",
       "      <td>6.000000</td>\n",
       "    </tr>\n",
       "    <tr>\n",
       "      <th>75%</th>\n",
       "      <td>9.200000</td>\n",
       "      <td>0.640000</td>\n",
       "      <td>0.420000</td>\n",
       "      <td>2.600000</td>\n",
       "      <td>0.090000</td>\n",
       "      <td>21.000000</td>\n",
       "      <td>62.000000</td>\n",
       "      <td>0.997835</td>\n",
       "      <td>3.400000</td>\n",
       "      <td>0.730000</td>\n",
       "      <td>11.100000</td>\n",
       "      <td>6.000000</td>\n",
       "    </tr>\n",
       "    <tr>\n",
       "      <th>max</th>\n",
       "      <td>15.900000</td>\n",
       "      <td>1.580000</td>\n",
       "      <td>1.000000</td>\n",
       "      <td>15.500000</td>\n",
       "      <td>0.611000</td>\n",
       "      <td>72.000000</td>\n",
       "      <td>289.000000</td>\n",
       "      <td>1.003690</td>\n",
       "      <td>4.010000</td>\n",
       "      <td>2.000000</td>\n",
       "      <td>14.900000</td>\n",
       "      <td>8.000000</td>\n",
       "    </tr>\n",
       "  </tbody>\n",
       "</table>\n",
       "</div>"
      ],
      "text/plain": [
       "       fixed acidity  volatile acidity  citric acid  residual sugar   \n",
       "count    1599.000000       1599.000000  1599.000000     1599.000000  \\\n",
       "mean        8.319637          0.527821     0.270976        2.538806   \n",
       "std         1.741096          0.179060     0.194801        1.409928   \n",
       "min         4.600000          0.120000     0.000000        0.900000   \n",
       "25%         7.100000          0.390000     0.090000        1.900000   \n",
       "50%         7.900000          0.520000     0.260000        2.200000   \n",
       "75%         9.200000          0.640000     0.420000        2.600000   \n",
       "max        15.900000          1.580000     1.000000       15.500000   \n",
       "\n",
       "         chlorides  free sulfur dioxide  total sulfur dioxide      density   \n",
       "count  1599.000000          1599.000000           1599.000000  1599.000000  \\\n",
       "mean      0.087467            15.874922             46.467792     0.996747   \n",
       "std       0.047065            10.460157             32.895324     0.001887   \n",
       "min       0.012000             1.000000              6.000000     0.990070   \n",
       "25%       0.070000             7.000000             22.000000     0.995600   \n",
       "50%       0.079000            14.000000             38.000000     0.996750   \n",
       "75%       0.090000            21.000000             62.000000     0.997835   \n",
       "max       0.611000            72.000000            289.000000     1.003690   \n",
       "\n",
       "                pH    sulphates      alcohol      quality  \n",
       "count  1599.000000  1599.000000  1599.000000  1599.000000  \n",
       "mean      3.311113     0.658149    10.422983     5.636023  \n",
       "std       0.154386     0.169507     1.065668     0.807569  \n",
       "min       2.740000     0.330000     8.400000     3.000000  \n",
       "25%       3.210000     0.550000     9.500000     5.000000  \n",
       "50%       3.310000     0.620000    10.200000     6.000000  \n",
       "75%       3.400000     0.730000    11.100000     6.000000  \n",
       "max       4.010000     2.000000    14.900000     8.000000  "
      ]
     },
     "execution_count": 4,
     "metadata": {},
     "output_type": "execute_result"
    }
   ],
   "source": [
    "# Describe the data\n",
    "df.describe()"
   ]
  },
  {
   "attachments": {},
   "cell_type": "markdown",
   "metadata": {},
   "source": [
    "The statistics reveal that the 'quality' variable ranges from 3 (worst wine) to 8 (best wine). This makes the dataset unbalanced. To address this, we'll group wines with quality 3, 4, and 5 into one category (poor/0) and wines with quality 6, 7, and 8 into another category (good/1). This transformation will help balance the dataset.\n",
    "\n",
    "The mean quality value is approximately 5.636, indicating that the majority of wines in the dataset are of average quality. The low standard deviation (0.808) suggests that the quality of the wines in the dataset is relatively consistent.\n",
    "\n",
    "Additionally, other features of the wine have values in varying ranges. To make it easier for the model to work with the data, we will scale the features using the StandardScaler."
   ]
  },
  {
   "attachments": {},
   "cell_type": "markdown",
   "metadata": {},
   "source": [
    "## First Impression\n",
    "\n",
    "Let's divide the dataset into features and target variable. Then we will split the data into train and test sets. I want to use 15% of the dataset for testing (test_size=0.15) and 85% for training. I will use the random_state parameter to make sure that the data is split in the same way every time I run the code."
   ]
  },
  {
   "cell_type": "code",
   "execution_count": 5,
   "metadata": {},
   "outputs": [],
   "source": [
    "from sklearn.model_selection import train_test_split\n",
    "\n",
    "# Change the target variable to binary as discussed above\n",
    "df['quality'] = df['quality'].apply(lambda x: 1 if x > 5 else 0)\n",
    "\n",
    "# Split features and target variable\n",
    "features = df.drop('quality', axis=1)\n",
    "target = df['quality']\n",
    "\n",
    "# Create train-test split (85% training, 15% testing)\n",
    "X_train, X_test, y_train, y_test = train_test_split(features, target, test_size=0.15, random_state=42, stratify=target)"
   ]
  },
  {
   "attachments": {},
   "cell_type": "markdown",
   "metadata": {},
   "source": [
    "Before applying the algorithms, it is necessary to scale the data. The scaling is necessary because the features are in different ranges. The scaling will help the model to work with the data more efficiently. I will use the StandardScaler from sklearn."
   ]
  },
  {
   "cell_type": "code",
   "execution_count": 6,
   "metadata": {},
   "outputs": [],
   "source": [
    "from sklearn.preprocessing import StandardScaler\n",
    "\n",
    "# Create a scaler object. This object will be used later in the final production model\n",
    "scaler = StandardScaler()\n",
    "\n",
    "# Fit the scaler on the training data\n",
    "scaler.fit(X_train)\n",
    "\n",
    "# Apply the scaler to both the training and test data\n",
    "X_train_scaled = scaler.transform(X_train)\n",
    "X_test_scaled = scaler.transform(X_test)"
   ]
  },
  {
   "attachments": {},
   "cell_type": "markdown",
   "metadata": {},
   "source": [
    "## Baseline model\n",
    "\n",
    "Now let's have some baseline for the dataset. This baseline will act as a point of comparison for more sophisticated models. For classification tasks, a common baseline is to predict the most frequent class in the training set for all instances in the test set. For this, we will use the DummyClassifier from sklearn."
   ]
  },
  {
   "cell_type": "code",
   "execution_count": 7,
   "metadata": {},
   "outputs": [
    {
     "name": "stdout",
     "output_type": "stream",
     "text": [
      "Baseline accuracy: 53.33%\n"
     ]
    }
   ],
   "source": [
    "from sklearn.dummy import DummyClassifier\n",
    "\n",
    "# Classification baseline: Predict most frequent class\n",
    "baseline_classifier = DummyClassifier(strategy='most_frequent')\n",
    "baseline_classifier.fit(X_train_scaled, y_train)\n",
    "baseline_accuracy = baseline_classifier.score(X_test_scaled, y_test)\n",
    "\n",
    "print('Baseline accuracy: {:.2f}%'.format(baseline_accuracy * 100))"
   ]
  },
  {
   "attachments": {},
   "cell_type": "markdown",
   "metadata": {},
   "source": [
    "For a more sophisticated classification and getting a first impression I will use KNN classifier without changing any parameters and compare the results with the baseline. The default KNN classifier as a baseline can be informative to see the improvement gained by a slightly more complex model compared to the most frequent class baseline."
   ]
  },
  {
   "cell_type": "code",
   "execution_count": 8,
   "metadata": {},
   "outputs": [
    {
     "name": "stdout",
     "output_type": "stream",
     "text": [
      "Accuracy: 72.08%\n"
     ]
    }
   ],
   "source": [
    "from sklearn.neighbors import KNeighborsClassifier\n",
    "\n",
    "# Create a KNN classifier with default parameters\n",
    "classifier = KNeighborsClassifier()\n",
    "\n",
    "# Train the classifier\n",
    "classifier.fit(X_train_scaled, y_train)\n",
    "\n",
    "# Evaluate the classifier\n",
    "accuracy = classifier.score(X_test_scaled, y_test)\n",
    "\n",
    "print('Accuracy: {:.2f}%'.format(accuracy * 100))"
   ]
  },
  {
   "attachments": {},
   "cell_type": "markdown",
   "metadata": {},
   "source": [
    "The accuracy of the DummyClassifier is 53.33% which is not impressive, as it is slightly better than a random 50% chance of guessing the target value correctly. On the other hand, the accuracy of the KNN classifier is 72.08% . The accuracy of the KNN classifier is 20% higher than the accuracy of the baseline and looks pretty good already. We will try to improve the accuracy of the model by tuning the hyperparameters further and see what percentage gain in accuracy we can have."
   ]
  },
  {
   "attachments": {},
   "cell_type": "markdown",
   "metadata": {},
   "source": [
    "## Algorithms and their Parameters\n",
    "\n",
    "In this section, we will explore the influence of hyperparameters on our machine learning algorithms. We will test three algorithms: Support Vector Machines (SVM), Decision Tree, and K-Nearest Neighbors (KNN). The influence of hyperparameters will be examined using validation curves.\n",
    "\n",
    "The following hyperparameter ranges will be considered for each algorithm:\n",
    "\n",
    "__svm_params__ = {'C': [0.001, 0.01, 0.1, 1, 10, 100], 'gamma': [0.001, 0.01, 0.1, 1, 10, 100]}\n",
    "\n",
    "__dt_params__ = {'max_depth': [None, 5, 10, 20, 30, 40, 100]}\n",
    "\n",
    "__knn_params__ = {'n_neighbors': [3, 5, 7, 10, 15, 20, 25]}\n",
    "\n",
    "For simplicity, we will experiment with a subset of hyperparameters, although others could be optimized as well.\n",
    "\n",
    "Let's start with Support Vector Machines (SVM)."
   ]
  },
  {
   "attachments": {},
   "cell_type": "markdown",
   "metadata": {},
   "source": [
    "### SVM"
   ]
  },
  {
   "cell_type": "code",
   "execution_count": 9,
   "metadata": {},
   "outputs": [],
   "source": [
    "from sklearn.svm import SVC\n",
    "\n",
    "# Defining the C and gamma ranges\n",
    "C_range = [0.001, 0.01, 0.1, 1, 10, 100]\n",
    "gamma_range = [0.001, 0.01, 0.1, 1, 10, 100]"
   ]
  },
  {
   "cell_type": "code",
   "execution_count": 10,
   "metadata": {},
   "outputs": [
    {
     "data": {
      "image/png": "[encoded data removed]",
      "text/plain": [
       "<Figure size 640x480 with 1 Axes>"
      ]
     },
     "metadata": {},
     "output_type": "display_data"
    }
   ],
   "source": [
    "from sklearn.model_selection import validation_curve\n",
    "\n",
    "# Validation curve for C parameter\n",
    "train_scores, test_scores = validation_curve(\n",
    "    SVC(random_state=42), X_train_scaled, y_train, param_name=\"C\", param_range=C_range)\n",
    "\n",
    "train_scores_mean = np.mean(train_scores, axis=1)\n",
    "test_scores_mean = np.mean(test_scores, axis=1)\n",
    "\n",
    "plt.figure()\n",
    "plt.plot(C_range, train_scores_mean, label='Training score')\n",
    "plt.plot(C_range, test_scores_mean, label='Validation score')\n",
    "plt.xlabel('C')\n",
    "plt.ylabel('Score')\n",
    "plt.title('Validation Curve - SVM (C)')\n",
    "plt.legend()\n",
    "plt.show()"
   ]
  },
  {
   "cell_type": "code",
   "execution_count": 11,
   "metadata": {},
   "outputs": [
    {
     "name": "stdout",
     "output_type": "stream",
     "text": [
      "Best C value: 10\n"
     ]
    }
   ],
   "source": [
    "best_C = C_range[np.argmax(test_scores_mean)]\n",
    "print('Best C value:', best_C)"
   ]
  },
  {
   "attachments": {},
   "cell_type": "markdown",
   "metadata": {},
   "source": [
    "The plot for C parameter suggests that with increasing the value of C, the validation score of the model doesn't increase significantly (it even goes down at some point). At some point of C, the validation curve stays relatively constant around the value 0.75. The best value of C is 10 as the plot suggests."
   ]
  },
  {
   "cell_type": "code",
   "execution_count": 12,
   "metadata": {},
   "outputs": [
    {
     "data": {
      "image/png": "[encoded data removed]",
      "text/plain": [
       "<Figure size 640x480 with 1 Axes>"
      ]
     },
     "metadata": {},
     "output_type": "display_data"
    }
   ],
   "source": [
    "# Validation curve for gamma parameter\n",
    "train_scores, test_scores = validation_curve(\n",
    "    SVC(random_state=42), X_train_scaled, y_train, param_name=\"gamma\", param_range=gamma_range)\n",
    "\n",
    "train_scores_mean = np.mean(train_scores, axis=1)\n",
    "test_scores_mean = np.mean(test_scores, axis=1)\n",
    "\n",
    "plt.figure()\n",
    "plt.plot(gamma_range, train_scores_mean, label='Training score')\n",
    "plt.plot(gamma_range, test_scores_mean, label='Validation score')\n",
    "plt.xlabel('gamma')\n",
    "plt.ylabel('Score')\n",
    "plt.title('Validation Curve - SVM (gamma)')\n",
    "plt.legend()\n",
    "plt.show()"
   ]
  },
  {
   "cell_type": "code",
   "execution_count": 13,
   "metadata": {},
   "outputs": [
    {
     "name": "stdout",
     "output_type": "stream",
     "text": [
      "Best gamma value: 0.1\n"
     ]
    }
   ],
   "source": [
    "best_gamma = gamma_range[np.argmax(test_scores_mean)]\n",
    "print('Best gamma value:', best_gamma)"
   ]
  },
  {
   "attachments": {},
   "cell_type": "markdown",
   "metadata": {},
   "source": [
    "We can clearly see on the plot, that the best gamma values lie between 0.001 and 0.1. With increasing the value of gamma, the model goes sharply dowm and is relatively constant at some point, bein equal to around 0.63. The best value of gamma is 0.1."
   ]
  },
  {
   "attachments": {},
   "cell_type": "markdown",
   "metadata": {},
   "source": [
    "### Decision Tree"
   ]
  },
  {
   "cell_type": "code",
   "execution_count": 14,
   "metadata": {},
   "outputs": [
    {
     "data": {
      "image/png": "[encoded data removed]",
      "text/plain": [
       "<Figure size 640x480 with 1 Axes>"
      ]
     },
     "metadata": {},
     "output_type": "display_data"
    }
   ],
   "source": [
    "from sklearn.tree import DecisionTreeClassifier\n",
    "\n",
    "# Define the range of 'max_depth' values to explore\n",
    "max_depth_range = [None, 5, 10, 20, 30, 40, 100]\n",
    "\n",
    "# Compute the validation curve\n",
    "train_scores, test_scores = validation_curve(\n",
    "    DecisionTreeClassifier(random_state=42), X_train_scaled, y_train, param_name=\"max_depth\", param_range=max_depth_range, cv=5)\n",
    "\n",
    "# Compute the mean training and validation scores\n",
    "train_scores_mean = np.mean(train_scores, axis=1)\n",
    "test_scores_mean = np.mean(test_scores, axis=1)\n",
    "\n",
    "# Plot the validation curve\n",
    "plt.figure()\n",
    "plt.plot(max_depth_range, train_scores_mean, label='Training score')\n",
    "plt.plot(max_depth_range, test_scores_mean, label='Validation score')\n",
    "plt.xlabel('Max Depth')\n",
    "plt.ylabel('Score')\n",
    "plt.title('Validation Curve - Decision Trees (Max Depth)')\n",
    "plt.legend()\n",
    "plt.show()"
   ]
  },
  {
   "cell_type": "code",
   "execution_count": 15,
   "metadata": {},
   "outputs": [
    {
     "name": "stdout",
     "output_type": "stream",
     "text": [
      "Best max_depth value: 10\n"
     ]
    }
   ],
   "source": [
    "best_max_depth = max_depth_range[np.argmax(test_scores_mean)]\n",
    "print('Best max_depth value:', best_max_depth)"
   ]
  },
  {
   "attachments": {},
   "cell_type": "markdown",
   "metadata": {},
   "source": [
    "The validation curve indicates that the model's performance on the validation set doesn't significantly improve with increasing 'max_depth.' Beyond a certain point, increasing 'max_depth' leads to overfitting, and the model doesn't generalize well. The curve suggests that 'max_depth=10' is the optimal value."
   ]
  },
  {
   "attachments": {},
   "cell_type": "markdown",
   "metadata": {},
   "source": [
    "### KNN"
   ]
  },
  {
   "cell_type": "code",
   "execution_count": 16,
   "metadata": {},
   "outputs": [
    {
     "data": {
      "image/png": "[encoded data removed]",
      "text/plain": [
       "<Figure size 640x480 with 1 Axes>"
      ]
     },
     "metadata": {},
     "output_type": "display_data"
    }
   ],
   "source": [
    "# Define the range of hyperparameter values to explore\n",
    "n_neighbors_range = [2, 3, 5, 7, 10, 15, 20, 25, 30, 50]\n",
    "\n",
    "# Compute the validation curve\n",
    "train_scores, test_scores = validation_curve(\n",
    "    KNeighborsClassifier(), X_train_scaled, y_train, param_name=\"n_neighbors\", param_range=n_neighbors_range, cv=5)\n",
    "\n",
    "# Compute the mean training and validation scores\n",
    "train_scores_mean = np.mean(train_scores, axis=1)\n",
    "test_scores_mean = np.mean(test_scores, axis=1)\n",
    "\n",
    "# Plot the validation curve\n",
    "plt.figure()\n",
    "plt.plot(n_neighbors_range, train_scores_mean, label='Training score')\n",
    "plt.plot(n_neighbors_range, test_scores_mean, label='Validation score')\n",
    "plt.xlabel('Number of Neighbors')\n",
    "plt.ylabel('Score')\n",
    "plt.title('Validation Curve - k-Nearest Neighbors (Number of Neighbors)')\n",
    "plt.legend()\n",
    "plt.show()"
   ]
  },
  {
   "cell_type": "code",
   "execution_count": 17,
   "metadata": {},
   "outputs": [
    {
     "name": "stdout",
     "output_type": "stream",
     "text": [
      "Best n_neghbors value: 15\n"
     ]
    }
   ],
   "source": [
    "best_n_neighbors = n_neighbors_range[np.argmax(test_scores_mean)]\n",
    "print('Best n_neghbors value:', best_n_neighbors)"
   ]
  },
  {
   "attachments": {},
   "cell_type": "markdown",
   "metadata": {},
   "source": [
    "The validation curve indicates that the best 'n_neighbors' value is 15. This value strikes a balance between underfitting and overfitting, providing optimal model performance."
   ]
  },
  {
   "attachments": {},
   "cell_type": "markdown",
   "metadata": {},
   "source": [
    "### Observation\n",
    "\n",
    "In our hyperparameter tuning experiments, it's apparent that the models are not gaining substantial benefits from increasing their complexity. Whether we examine the range of hyperparameters for Support Vector Machines (SVM), Decision Trees, or K-Nearest Neighbors (KNN), a consistent pattern emerges: as we move towards higher complexity, the model's performance on the validation set either plateaus or begins to degrade. \n",
    "\n",
    "This initial analysis suggests that simpler models may be more suitable for our dataset. Simplicity not only aids model interpretation but also helps in preventing overfitting. However, it's important to note that our hyperparameter tuning exploration is just the first step. Further optimization and fine-tuning of hyperparameters and potentially trying other algorithms will be part of the process to build the best possible model for our dataset."
   ]
  },
  {
   "attachments": {},
   "cell_type": "markdown",
   "metadata": {},
   "source": [
    "## Nested Cross Validation\n",
    "\n",
    "In this section, we aim to compare the performance of different algorithms using nested cross-validation. Nested cross-validation is used to provide a more reliable estimate of the model's performance. The outer cross-validation loop assesses the model's generalization performance, while the inner loop optimizes the hyperparameters. We will explore various hyperparameters for each algorithm to find the best-performing model. Additionally, we will compare the results with our baseline model."
   ]
  },
  {
   "cell_type": "code",
   "execution_count": 18,
   "metadata": {},
   "outputs": [],
   "source": [
    "from sklearn.model_selection import GridSearchCV, StratifiedKFold, cross_val_score\n",
    "\n",
    "# Define hyperparameters for SVM\n",
    "svm_params = {\n",
    "    'C': [0.1, 1, 10],\n",
    "    'gamma': [0.1, 1, 10],\n",
    "    'kernel': ['linear', 'poly', 'rbf', 'sigmoid']\n",
    "}\n",
    "\n",
    "# Define hyperparameters for Decision Tree\n",
    "dt_params = {\n",
    "    'max_depth': [None, 5, 10, 20],\n",
    "    'criterion': ['gini', 'entropy']\n",
    "}\n",
    "\n",
    "# Define hyperparameters for k-Nearest Neighbors (kNN)\n",
    "knn_params = {\n",
    "    'n_neighbors': [3, 5, 10, 20],\n",
    "    'weights': ['uniform', 'distance'],\n",
    "    'p': [1, 2]\n",
    "}\n",
    "\n",
    "NUM_OUTER_SPLITS = 5\n",
    "NUM_INNER_SPLITS = 2\n",
    "\n",
    "# Define algorithms and their corresponding hyperparameter grids\n",
    "algorithms = {\n",
    "    \"SVM\": (SVC(random_state=42), svm_params),\n",
    "    \"Decision Tree\": (DecisionTreeClassifier(random_state=42), dt_params),\n",
    "    \"k-Nearest Neighbors\": (KNeighborsClassifier(n_jobs=-1), knn_params),\n",
    "}\n",
    "\n",
    "# Set up outer and inner cross-validation loops\n",
    "outer_cv = StratifiedKFold(n_splits=NUM_OUTER_SPLITS, shuffle=True, random_state=42)\n",
    "inner_cv = StratifiedKFold(n_splits=NUM_INNER_SPLITS, shuffle=True, random_state=42)"
   ]
  },
  {
   "cell_type": "code",
   "execution_count": 19,
   "metadata": {},
   "outputs": [],
   "source": [
    "results = {}\n",
    "\n",
    "best_hyperparameters = {}\n",
    "\n",
    "# Perform nested cross-validation for each algorithm\n",
    "for algorithm_name, (estimator, hyperparameters) in algorithms.items():\n",
    "    grid_search = GridSearchCV(estimator, hyperparameters, cv=inner_cv, scoring=\"balanced_accuracy\")\n",
    "    \n",
    "    # Perform nested cross-validation\n",
    "    grid_search.fit(X_train_scaled, y_train)\n",
    "    \n",
    "    # Store the best hyperparameters\n",
    "    best_hyperparameters[algorithm_name] = grid_search.best_params_\n",
    "    \n",
    "    nested_score = cross_val_score(grid_search.best_estimator_, X_train_scaled, y_train, cv=outer_cv, scoring=\"balanced_accuracy\")\n",
    "\n",
    "    results[algorithm_name] = nested_score"
   ]
  },
  {
   "cell_type": "code",
   "execution_count": 20,
   "metadata": {},
   "outputs": [
    {
     "name": "stdout",
     "output_type": "stream",
     "text": [
      "SVM:\n",
      "Mean Balanced Accuracy: 0.7565104869685337\n",
      "Standard Deviation: 0.02295916872295584\n",
      "\n",
      "Decision Tree:\n",
      "Mean Balanced Accuracy: 0.7210345276278349\n",
      "Standard Deviation: 0.008884232768680113\n",
      "\n",
      "k-Nearest Neighbors:\n",
      "Mean Balanced Accuracy: 0.7838481278645082\n",
      "Standard Deviation: 0.025212742353597477\n",
      "\n",
      "Best Hyperparameters for SVM:\n",
      "{'C': 1, 'gamma': 0.1, 'kernel': 'rbf'}\n",
      "Best Hyperparameters for Decision Tree:\n",
      "{'criterion': 'gini', 'max_depth': 5}\n",
      "Best Hyperparameters for k-Nearest Neighbors:\n",
      "{'n_neighbors': 20, 'p': 2, 'weights': 'distance'}\n"
     ]
    }
   ],
   "source": [
    "# Compare algorithm performance\n",
    "for algorithm_name, scores in results.items():\n",
    "    print(f\"{algorithm_name}:\")\n",
    "    print(f\"Mean Balanced Accuracy: {scores.mean()}\")\n",
    "    print(f\"Standard Deviation: {scores.std()}\\n\")\n",
    "\n",
    "# Access the best hyperparameters for each algorithm\n",
    "for algorithm_name, hyperparameters in best_hyperparameters.items():\n",
    "    print(f\"Best Hyperparameters for {algorithm_name}:\")\n",
    "    print(hyperparameters)"
   ]
  },
  {
   "cell_type": "markdown",
   "metadata": {},
   "source": [
    "## Nested Cross-Validation Results\n",
    "\n",
    "Based on the results of the nested cross-validation, we can draw some key conclusions:\n",
    "\n",
    "1. Mean Balanced Accuracy: The Mean Balanced Accuracy is an essential metric to assess the average model performance across multiple outer cross-validation splits. Among the three algorithms (SVM, Decision Tree, and k-Nearest Neighbors), k-Nearest Neighbors (kNN) achieved the highest Mean Balanced Accuracy, indicating superior average performance.\n",
    "\n",
    "2. Standard Deviation: While kNN demonstrated the highest mean balanced accuracy, it also exhibited a slightly higher standard deviation compared to the other algorithms. The standard deviation measures the variability in model performance across the outer cross-validation splits. Although kNN's standard deviation is not significantly higher, it suggests some variability in performance. However, this variation is manageable and does not undermine the algorithm's superiority.\n",
    "\n",
    "In summary, the results of nested cross-validation indicate that k-Nearest Neighbors (kNN) is the top-performing algorithm for our task, as it consistently achieves the highest mean balanced accuracy. The slightly higher standard deviation for kNN does not diminish its overall superiority. Therefore, we can confidently choose kNN as the best algorithm for our wine quality prediction task."
   ]
  },
  {
   "cell_type": "markdown",
   "metadata": {},
   "source": [
    "## Final Model Selection\n",
    "\n",
    "To select the final model for wine quality prediction, we conduct an extensive hyperparameter search for k-Nearest Neighbors (kNN) using GridSearchCV. While the Nested Cross-Validation provided valuable insights, this step allows us to fine-tune our chosen algorithm and further boost its performance."
   ]
  },
  {
   "cell_type": "code",
   "execution_count": 21,
   "metadata": {},
   "outputs": [],
   "source": [
    "# Define a grid of hyperparameters for kNN\n",
    "k_grid = {\n",
    "    'n_neighbors': list(range(1, 30)),\n",
    "    'weights': ['uniform', 'distance'],\n",
    "    'p': [1, 2]\n",
    "}"
   ]
  },
  {
   "cell_type": "code",
   "execution_count": 22,
   "metadata": {},
   "outputs": [
    {
     "name": "stdout",
     "output_type": "stream",
     "text": [
      "Best Accuracy: 80.79%\n",
      "Best Params:  {'n_neighbors': 23, 'p': 1, 'weights': 'distance'}\n"
     ]
    }
   ],
   "source": [
    "# Perform a grid search with kNN\n",
    "gs = GridSearchCV(\n",
    "    estimator=KNeighborsClassifier(),\n",
    "    param_grid=k_grid,\n",
    "    n_jobs=-1,\n",
    ")\n",
    "\n",
    "gs.fit(X_train_scaled, y_train)\n",
    "\n",
    "# Display the best accuracy and hyperparameters found during the grid search\n",
    "print('Best Accuracy: {:.2f}%'.format(gs.best_score_ * 100))\n",
    "print('Best Params: ', gs.best_params_)"
   ]
  },
  {
   "cell_type": "markdown",
   "metadata": {},
   "source": [
    "The accuracy on the test set is the best so far. Now let's compare the accuracy of the chosen model on a test dataset and the baseline modes."
   ]
  },
  {
   "cell_type": "code",
   "execution_count": 23,
   "metadata": {},
   "outputs": [
    {
     "name": "stdout",
     "output_type": "stream",
     "text": [
      "Final Model Accuracy: 79.58%\n"
     ]
    }
   ],
   "source": [
    "# Initialize the final kNN model with the best hyperparameters\n",
    "knn_clf = KNeighborsClassifier(n_neighbors=23, p=1, weights='distance', n_jobs=-1)\n",
    "\n",
    "# Train the final model on the training data\n",
    "knn_clf.fit(X_train_scaled, y_train)\n",
    "\n",
    "# Evaluate the final model on the test set\n",
    "acr = knn_clf.score(X_test_scaled, y_test)\n",
    "\n",
    "# Display the final model's accuracy on the test set\n",
    "print('Final Model Accuracy: {:.2f}%'.format(acr * 100))"
   ]
  },
  {
   "attachments": {},
   "cell_type": "markdown",
   "metadata": {},
   "source": [
    "### Conclusion\n",
    "\n",
    "The improved kNN model demonstrates superior performance, achieving an accuracy of 79.58% on the test set. This remarkable result surpasses both the baseline DummyClassifier and the default kNN model by a substantial margin. The initial choice of kNN as our baseline algorithm provided a strong foundation, and our efforts to optimize hyperparameters have significantly improved its predictive power.\n",
    "\n",
    "By selecting the improved kNN model as our final choice for wine quality prediction, we are confident that it represents the best-performing solution for the task. This choice is supported by a thorough exploration of hyperparameters, demonstrating that it outperforms alternative algorithms and baselines."
   ]
  },
  {
   "attachments": {},
   "cell_type": "markdown",
   "metadata": {},
   "source": [
    "## Final Production Model\n",
    "\n",
    "In this section, we transition from model selection to creating the final production model for wine quality prediction. Our process has led us to choose k-Nearest Neighbors (kNN) with the best hyperparameters for optimal performance. Now, we will assemble this model into a pipeline for real-world deployment."
   ]
  },
  {
   "cell_type": "code",
   "execution_count": 24,
   "metadata": {},
   "outputs": [],
   "source": [
    "from sklearn.pipeline import Pipeline\n",
    "\n",
    "# Create a pipeline with preprocessing (scaling) and the KNN model\n",
    "final_model = Pipeline([\n",
    "    (\"scaler\", scaler),\n",
    "    (\"knn\", knn_clf)\n",
    "])\n"
   ]
  },
  {
   "attachments": {},
   "cell_type": "markdown",
   "metadata": {},
   "source": [
    "With the completion of pipeline, we have successfully created our final production model for wine quality prediction. This model incorporates the best hyperparameters for k-Nearest Neighbors (kNN) and includes a preprocessing step to scale the features. The final model is now ready to be deployed for real-world wine quality assessments."
   ]
  },
  {
   "attachments": {},
   "cell_type": "markdown",
   "metadata": {},
   "source": [
    "### Model storage\n",
    "\n",
    "The final step in our process is to save the trained model for future use. We will use the `joblib` library to accomplish this."
   ]
  },
  {
   "cell_type": "code",
   "execution_count": 25,
   "metadata": {},
   "outputs": [
    {
     "data": {
      "text/plain": [
       "['wine_model.joblib']"
      ]
     },
     "execution_count": 25,
     "metadata": {},
     "output_type": "execute_result"
    }
   ],
   "source": [
    "import joblib\n",
    "\n",
    "# Save the final model to a file\n",
    "joblib.dump(final_model, 'wine_model.joblib')"
   ]
  },
  {
   "attachments": {},
   "cell_type": "markdown",
   "metadata": {},
   "source": [
    "Now, we have successfully trained and stored the kNN model with the best hyperparameters. This model is saved as a joblib file ('wine_model.joblib'), making it easy to load and utilize for making predictions in a production environment running Python."
   ]
  },
  {
   "cell_type": "markdown",
   "metadata": {},
   "source": [
    "## Conclusions and Future Work\n",
    "\n",
    "### Conclusions\n",
    "\n",
    "__Summarizing the Results__:\n",
    "After extensive evaluation of various machine learning algorithms, the k-nearest neighbors (kNN) algorithm with specific settings emerged as the top performer. It demonstrated the highest accuracy in classifying the samples, making it an effective predictor for similar data.\n",
    "\n",
    "__Usability of the Approach__:\n",
    "The approach used in this project, which involved a methodical comparison of different algorithms and the selection of the best-performing one through testing, has proven to be reliable and practical. The chosen kNN model, equipped with its optimized settings, is well-suited for real-world applications.\n",
    "\n",
    "__Value of the Results__:\n",
    "The results presented here offer a recommended model and its specific settings for the wine quality prediction task. By following this approach, we can confidently deploy the kNN model, given its superior accuracy when compared to other algorithms and rigorous testing.\n",
    "\n",
    "### Ideas for Future Work\n",
    "\n",
    "1. __Improve the Features__:\n",
    "   Seek opportunities to enhance the quality of input data, potentially by incorporating additional information or domain-specific expertise to refine the model's accuracy.\n",
    "\n",
    "2. __Combine Models__:\n",
    "   Explore the possibility of using ensemble methods or combining multiple models to create a more robust prediction model.\n",
    "\n",
    "3. __Address Imbalanced Data__:\n",
    "   Develop strategies to handle imbalanced data scenarios, ensuring that the model performs well when there are unequal numbers of samples in different classes.\n",
    "\n",
    "4. __Understand the Model__:\n",
    "   Delve into the inner workings of the model to gain insights into its decision-making processes. This may involve feature importance analysis to explain its reasoning.\n",
    "\n",
    "5. __Model Updates__:\n",
    "   Investigate methods for continuous model updates as new data becomes available. This enables the model to adapt and improve over time.\n",
    "\n",
    "6. __Optimize Deployment__:\n",
    "   Find ways to enhance the model's efficiency and speed when deployed in real-world applications. Consider strategies to reduce memory usage or leverage specialized hardware for improved performance.\n",
    "\n",
    "### Room for Improvement:\n",
    "- Consider experimenting with different test and train data split ratios, as this can impact model performance.\n",
    "- Explore more extensive hyperparameter tuning to fine-tune the model for even better results.\n",
    "- Evaluate alternative scalers to determine if they yield improved model performance."
   ]
  },
  {
   "cell_type": "markdown",
   "metadata": {},
   "source": []
  }
 ],
 "metadata": {
  "kernelspec": {
   "display_name": "mlenv",
   "language": "python",
   "name": "python3"
  },
  "language_info": {
   "codemirror_mode": {
    "name": "ipython",
    "version": 3
   },
   "file_extension": ".py",
   "mimetype": "text/x-python",
   "name": "python",
   "nbconvert_exporter": "python",
   "pygments_lexer": "ipython3",
   "version": "3.9.13"
  },
  "orig_nbformat": 4
 },
 "nbformat": 4,
 "nbformat_minor": 2
}
